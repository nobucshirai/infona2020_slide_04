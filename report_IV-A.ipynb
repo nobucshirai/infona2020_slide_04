{
  "nbformat": 4,
  "nbformat_minor": 0,
  "metadata": {
    "colab": {
      "provenance": []
    },
    "kernelspec": {
      "name": "python3",
      "display_name": "Python 3"
    }
  },
  "cells": [
    {
      "cell_type": "markdown",
      "metadata": {
        "id": "jaeqy3WhYbK3"
      },
      "source": [
        "# 数値解析2020 レポート\n",
        "\n",
        "**IV-A.** ニュートン法により $x$ の多項式 $f(x)=x^6-7x^4+11x^3-10$ の根を求めるプログラムを初期値を $x=1$ として作成し、根の真値を10進16桁まで示した $\\alpha=1.357271472605337$ と比べて絶対誤差が $10^{-8}$ 以下となる最低の反復回数 $n$ を求めよ。\n",
        "また $n$ 回反復した時の根の近似値と絶対誤差も求めよ。近似値は10進11桁以降を切り捨てて求め、絶対誤差は10進4桁以降を切り捨ててよ。\n",
        "作成したプログラムも提出すること。プログラミング言語は問わない。"
      ]
    },
    {
      "cell_type": "markdown",
      "metadata": {
        "id": "6oMty-RaogOy"
      },
      "source": [
        "以下Python3を用いたプログラム例を示す。"
      ]
    },
    {
      "cell_type": "code",
      "metadata": {
        "id": "mMdicca6YOfm",
        "outputId": "db2476d8-7d18-4f86-b767-ce28227c0dff",
        "colab": {
          "base_uri": "https://localhost:8080/"
        }
      },
      "source": [
        "# Pythonのバージョン確認\n",
        "import sys\n",
        "print(sys.version)"
      ],
      "execution_count": 1,
      "outputs": [
        {
          "output_type": "stream",
          "name": "stdout",
          "text": [
            "3.9.16 (main, Dec  7 2022, 01:11:51) \n",
            "[GCC 9.4.0]\n"
          ]
        }
      ]
    },
    {
      "cell_type": "code",
      "metadata": {
        "id": "8Z5uhXiGnrc6"
      },
      "source": [
        "#def f(x):\n",
        "#    x2 = x*x; x3 = x2*x\n",
        "#    return ((x2-7)*x+11)*x3-10\n",
        "\n",
        "#def dfdx(x):\n",
        "#    x2 = x*x\n",
        "#    return ((6*x2-28)*x+33)*x2\n",
        "\n",
        "def f_and_dfdx(x):\n",
        "    x2 = x*x; x3 = x2*x\n",
        "    return ((x2-7)*x+11)*x3-10, ((6*x2-28)*x+33)*x2"
      ],
      "execution_count": 2,
      "outputs": []
    },
    {
      "cell_type": "code",
      "metadata": {
        "id": "8UbkV8lSpLox",
        "outputId": "88a282d3-2a72-44e1-959b-c222a0493b6e",
        "colab": {
          "base_uri": "https://localhost:8080/"
        }
      },
      "source": [
        "x = 1\n",
        "alpha = 1.357271472605337\n",
        "for i in range(100):\n",
        "    f_0, f_1 = f_and_dfdx(x)\n",
        "    if abs(alpha - x) <= 10**-8:\n",
        "        break\n",
        "    else:\n",
        "        x = x - f_0 / f_1\n",
        "\n",
        "print(\"反復回数 {:d}\".format(i))\n",
        "print(\"根の近似値 {:.15f}\".format(x))\n",
        "print(\"誤差 {:.15f}\".format(abs(alpha - x)))\n",
        "f_0, _ = f_and_dfdx(x)\n",
        "print(\"残差 {:.15f}\".format(abs(f_0)))"
      ],
      "execution_count": 3,
      "outputs": [
        {
          "output_type": "stream",
          "name": "stdout",
          "text": [
            "反復回数 4\n",
            "根の近似値 1.357271481600892\n",
            "誤差 0.000000008995555\n",
            "残差 0.000000165689585\n"
          ]
        }
      ]
    },
    {
      "cell_type": "code",
      "metadata": {
        "id": "unQfFhTRyBF-",
        "outputId": "56211fe6-7e60-42e4-c1e7-02f1d2d8b676",
        "colab": {
          "base_uri": "https://localhost:8080/"
        }
      },
      "source": [
        "x = 1\n",
        "alpha = 1.357271472605337\n",
        "i = 0\n",
        "f_0, _ = f_and_dfdx(x)\n",
        "print(\"(i={:d}) {:.15f} 誤差 {:18.15f} 残差 {:18.15f}\".format(i, x, abs(alpha - x), abs(f_0)))\n",
        "for i in range(100):\n",
        "    f_0, f_1 = f_and_dfdx(x)\n",
        "    if abs(alpha - x) <= 10**-8:\n",
        "        break\n",
        "    else:\n",
        "        x = x - f_0 / f_1\n",
        "    i += 1\n",
        "    f_0, _ = f_and_dfdx(x)\n",
        "    print(\"(i={:d}) {:.15f} 誤差 {:18.15f} 残差 {:18.15f}\".format(i, x, abs(alpha - x), abs(f_0)))\n",
        "\n",
        "print()\n",
        "print(\"反復回数 n={:d}\".format(i))\n",
        "print(\"根の近似値 {:.15f}\".format(x))\n",
        "print(\"誤差 {:.15f}\".format(abs(alpha - x)))\n",
        "f_0, _ = f_and_dfdx(x)\n",
        "print(\"残差 {:.15f}\".format(abs(f_0)))"
      ],
      "execution_count": 4,
      "outputs": [
        {
          "output_type": "stream",
          "name": "stdout",
          "text": [
            "(i=0) 1.000000000000000 誤差  0.357271472605337 残差  5.000000000000000\n",
            "(i=1) 1.454545454545455 誤差  0.097273981940118 残差  1.988161852738914\n",
            "(i=2) 1.367024392736051 誤差  0.009752920130714 残差  0.181403933828856\n",
            "(i=3) 1.357366563718892 誤差  0.000095091113555 残差  0.001751653873868\n",
            "(i=4) 1.357271481600892 誤差  0.000000008995555 残差  0.000000165689585\n",
            "\n",
            "反復回数 n=4\n",
            "根の近似値 1.357271481600892\n",
            "誤差 0.000000008995555\n",
            "残差 0.000000165689585\n"
          ]
        }
      ]
    },
    {
      "cell_type": "code",
      "metadata": {
        "id": "fy3g_9JG3WTm",
        "outputId": "88391c03-9ed9-4bd8-cada-4cbf371d0f46",
        "colab": {
          "base_uri": "https://localhost:8080/"
        }
      },
      "source": [
        "x = 1\n",
        "alpha = 1.357271472605337\n",
        "i = 0\n",
        "f_0, _ = f_and_dfdx(x)\n",
        "print(\"{:2d},{:.15f},{:.15f},{:.15f}\".format(i, x, abs(alpha-x) ,abs(f_0)))\n",
        "for i in range(100):\n",
        "    f_0, f_1 = f_and_dfdx(x)\n",
        "    if abs(alpha - x) <= 10**-8:\n",
        "        break\n",
        "    else:\n",
        "        x = x - f_0 / f_1\n",
        "    i += 1\n",
        "    f_0, _ = f_and_dfdx(x)\n",
        "    print(\"{:2d},{:.15f},{:.15f},{:.15f}\".format(i, x, abs(alpha-x) ,abs(f_0)))"
      ],
      "execution_count": 5,
      "outputs": [
        {
          "output_type": "stream",
          "name": "stdout",
          "text": [
            " 0,1.000000000000000,0.357271472605337,5.000000000000000\n",
            " 1,1.454545454545455,0.097273981940118,1.988161852738914\n",
            " 2,1.367024392736051,0.009752920130714,0.181403933828856\n",
            " 3,1.357366563718892,0.000095091113555,0.001751653873868\n",
            " 4,1.357271481600892,0.000000008995555,0.000000165689585\n"
          ]
        }
      ]
    }
  ]
}